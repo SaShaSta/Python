{
  "cells": [
    {
      "cell_type": "markdown",
      "source": [
        "**Calculator (including Factorial):**"
      ],
      "metadata": {
        "id": "7Iyls2aMrIHv"
      }
    },
    {
      "cell_type": "code",
      "execution_count": null,
      "metadata": {
        "id": "Ix-ZZhJf9ssi"
      },
      "outputs": [],
      "source": [
        "def calculator():\n",
        "    def factorial(x):\n",
        "        if x < 0:\n",
        "            print(\"Number must be a non-negative integer.\")\n",
        "            return\n",
        "        fact = 1\n",
        "        for i in range(1, x + 1):\n",
        "            fact *= i\n",
        "        print(\"Factorial of\", x, \"is\", fact)\n",
        "\n",
        "    while True:\n",
        "        x = float(input(\"Please enter the first number: \"))\n",
        "        y = float(input(\"Please enter the second number: \"))\n",
        "        op = input(\"Please enter the operation (+, -, *, /, !, or q to quit): \")\n",
        "\n",
        "        if op == 'q':\n",
        "            print(\"EXIT\")\n",
        "            break\n",
        "        elif op == '+':\n",
        "            print(\"Result:\", x + y)\n",
        "        elif op == '-':\n",
        "            print(\"Result:\", x - y)\n",
        "        elif op == '*':\n",
        "            print(\"Result:\", x * y)\n",
        "        elif op == '/':\n",
        "            if y == 0:\n",
        "                print(\"Cannot divide by zero.\")\n",
        "            else:\n",
        "                print(\"Result:\", x / y)\n",
        "        elif op == '!':\n",
        "            factorial(int(x))\n",
        "        else:\n",
        "            print(\"Not a valid operation.\")"
      ]
    },
    {
      "cell_type": "code",
      "execution_count": null,
      "metadata": {
        "colab": {
          "base_uri": "https://localhost:8080/",
          "height": 730
        },
        "id": "5NInBKk595Ld",
        "outputId": "e458a835-bc49-43d9-ec9d-35f958405088"
      },
      "outputs": [
        {
          "name": "stdout",
          "output_type": "stream",
          "text": [
            "Please enter the first number: 1\n",
            "Please enter the second number: 2\n",
            "Please enter the operation (+, -, *, /, !, or q to quit): *\n",
            "Result: 2.0\n",
            "Please enter the first number: 5\n",
            "Please enter the second number: 2\n",
            "Please enter the operation (+, -, *, /, !, or q to quit): +\n",
            "Result: 7.0\n",
            "Please enter the first number: 5\n",
            "Please enter the second number: 2\n",
            "Please enter the operation (+, -, *, /, !, or q to quit): -\n",
            "Result: 3.0\n",
            "Please enter the first number: 5\n",
            "Please enter the second number: 8\n",
            "Please enter the operation (+, -, *, /, !, or q to quit): !\n",
            "Factorial of 5 is 120\n",
            "Please enter the first number: 4\n",
            "Please enter the second number: 4\n",
            "Please enter the operation (+, -, *, /, !, or q to quit): !\n",
            "Factorial of 4 is 24\n",
            "Please enter the first number: 3\n",
            "Please enter the second number: 1\n",
            "Please enter the operation (+, -, *, /, !, or q to quit): !\n",
            "Factorial of 3 is 6\n",
            "Please enter the first number: q\n"
          ]
        },
        {
          "output_type": "error",
          "ename": "ValueError",
          "evalue": "could not convert string to float: 'q'",
          "traceback": [
            "\u001b[0;31m---------------------------------------------------------------------------\u001b[0m",
            "\u001b[0;31mValueError\u001b[0m                                Traceback (most recent call last)",
            "\u001b[0;32m<ipython-input-2-0c616def4ff3>\u001b[0m in \u001b[0;36m<cell line: 1>\u001b[0;34m()\u001b[0m\n\u001b[0;32m----> 1\u001b[0;31m \u001b[0mcalculator\u001b[0m\u001b[0;34m(\u001b[0m\u001b[0;34m)\u001b[0m\u001b[0;34m\u001b[0m\u001b[0;34m\u001b[0m\u001b[0m\n\u001b[0m",
            "\u001b[0;32m<ipython-input-1-d547f7f169a7>\u001b[0m in \u001b[0;36mcalculator\u001b[0;34m()\u001b[0m\n\u001b[1;32m     10\u001b[0m \u001b[0;34m\u001b[0m\u001b[0m\n\u001b[1;32m     11\u001b[0m     \u001b[0;32mwhile\u001b[0m \u001b[0;32mTrue\u001b[0m\u001b[0;34m:\u001b[0m\u001b[0;34m\u001b[0m\u001b[0;34m\u001b[0m\u001b[0m\n\u001b[0;32m---> 12\u001b[0;31m         \u001b[0mx\u001b[0m \u001b[0;34m=\u001b[0m \u001b[0mfloat\u001b[0m\u001b[0;34m(\u001b[0m\u001b[0minput\u001b[0m\u001b[0;34m(\u001b[0m\u001b[0;34m\"Please enter the first number: \"\u001b[0m\u001b[0;34m)\u001b[0m\u001b[0;34m)\u001b[0m\u001b[0;34m\u001b[0m\u001b[0;34m\u001b[0m\u001b[0m\n\u001b[0m\u001b[1;32m     13\u001b[0m         \u001b[0my\u001b[0m \u001b[0;34m=\u001b[0m \u001b[0mfloat\u001b[0m\u001b[0;34m(\u001b[0m\u001b[0minput\u001b[0m\u001b[0;34m(\u001b[0m\u001b[0;34m\"Please enter the second number: \"\u001b[0m\u001b[0;34m)\u001b[0m\u001b[0;34m)\u001b[0m\u001b[0;34m\u001b[0m\u001b[0;34m\u001b[0m\u001b[0m\n\u001b[1;32m     14\u001b[0m         \u001b[0mop\u001b[0m \u001b[0;34m=\u001b[0m \u001b[0minput\u001b[0m\u001b[0;34m(\u001b[0m\u001b[0;34m\"Please enter the operation (+, -, *, /, !, or q to quit): \"\u001b[0m\u001b[0;34m)\u001b[0m\u001b[0;34m\u001b[0m\u001b[0;34m\u001b[0m\u001b[0m\n",
            "\u001b[0;31mValueError\u001b[0m: could not convert string to float: 'q'"
          ]
        }
      ],
      "source": [
        "calculator()"
      ]
    }
  ],
  "metadata": {
    "colab": {
      "provenance": []
    },
    "kernelspec": {
      "display_name": "Python 3",
      "name": "python3"
    },
    "language_info": {
      "name": "python"
    }
  },
  "nbformat": 4,
  "nbformat_minor": 0
}