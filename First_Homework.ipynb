{
  "nbformat": 4,
  "nbformat_minor": 0,
  "metadata": {
    "colab": {
      "provenance": []
    },
    "kernelspec": {
      "name": "python3",
      "display_name": "Python 3"
    },
    "language_info": {
      "name": "python"
    }
  },
  "cells": [
    {
      "cell_type": "markdown",
      "source": [
        "** *italicised text*1-PEP coding standards**"
      ],
      "metadata": {
        "id": "5LBM-N2PFCa_"
      }
    },
    {
      "cell_type": "markdown",
      "source": [
        "PEP coding standards, which stands for Python Enhancement Proposal, are a set of guidelines and best practices for writing Python code. They cover various aspects such as formatting, naming conventions, code layout, documentation, and more. PEP 8 is one of the most widely followed standards and covers style conventions for writing Python code, including indentation, line length, imports, naming conventions, and comments.\n",
        "\n",
        "**PEP 8: Style Guide for Python Code**\n",
        "**Indentation:**\n",
        "\n",
        "Use 4 spaces for each level of indentation. Don't use tabs.\n",
        "\n",
        "**Line Length:**\n",
        "Keep lines of code to a maximum of 79 characters. This helps keep your code readable.\n",
        "\n",
        "**Blank Lines:**\n",
        "Use two blank lines before starting a new function or class. Inside classes, use one blank line between methods.\n",
        "\n",
        "**Imports:**\n",
        "Write each import on a new line.\n",
        "Group imports in this order: standard library, third-party libraries, and your own modules. Separate these groups with a blank line.\n",
        "\n",
        "**Whitespace:**\n",
        "Don't add extra spaces inside parentheses, brackets, or braces.\n",
        "Don't add extra spaces before commas, colons, or semicolons.\n",
        "Use a single space around operators, like = or +, but don't align them across multiple lines.\n",
        "\n",
        "**Comments:**\n",
        "Write comments to explain why you did something, not what you did. Make them full sentences and easy to understand.\n",
        "Use block comments for longer explanations and inline comments sparingly for quick notes.\n",
        "\n",
        "**Naming Conventions:**\n",
        "Use lowercase_with_underscores for function and variable names.\n",
        "Use UPPERCASE_WITH_UNDERSCORES for constants.\n",
        "Use CapitalizedWords for class names.\n",
        "Use mixedCase only if it's already common in the codebase.\n",
        "\n",
        "**PEP 20: The Zen of Python:**\n",
        "Code should be beautiful, explicit, simple, and readable. These principles guide the design of Python.\n",
        "\n",
        "**PEP 257: Docstring Conventions:**\n",
        "A docstring is a string literal that appears right after the definition of a function, method, class, or module.\n",
        "Use triple quotes (\"\"\") for docstrings.\n",
        "Start with a one-line summary, followed by a blank line, then more details if necessary.\n",
        "\n",
        "**Summary of Other Important PEPs:**\n",
        "Type Hints (PEP 484): Add type hints to your functions to make it clear what type of arguments and return values are expected.\n",
        "Module Naming: Keep module names short, lowercase, and avoid underscores if possible.\n"
      ],
      "metadata": {
        "id": "KntkKjwMFK1C"
      }
    },
    {
      "cell_type": "markdown",
      "source": [
        "**2-Mutable and immutable variables**"
      ],
      "metadata": {
        "id": "FDI6NhdIFg5K"
      }
    },
    {
      "cell_type": "markdown",
      "source": [
        "Mutable and immutable variables differ in how their values can be changed after they are created:"
      ],
      "metadata": {
        "id": "2krpwnFUGK0B"
      }
    },
    {
      "cell_type": "markdown",
      "source": [
        "\n",
        "**Mutable Variables:** Mutable variables are those whose values can be modified after creation. This means that you can change the content of the variable without changing its identity. Examples of mutable data types in Python include lists and dictionaries.*italicised text*"
      ],
      "metadata": {
        "id": "oZGowGEYFTzZ"
      }
    },
    {
      "cell_type": "code",
      "source": [
        "# Example of a mutable variable (list)\n",
        "my_list = [1, 2, 3]\n",
        "my_list.append(4)\n",
        "print(my_list)  # Output: [1, 2, 3, 4]"
      ],
      "metadata": {
        "colab": {
          "base_uri": "https://localhost:8080/"
        },
        "id": "IsvcBzZIF9fx",
        "outputId": "64654e7c-816d-414b-ea06-95565ee0056e"
      },
      "execution_count": null,
      "outputs": [
        {
          "output_type": "stream",
          "name": "stdout",
          "text": [
            "[1, 2, 3, 4]\n"
          ]
        }
      ]
    },
    {
      "cell_type": "markdown",
      "source": [
        "**Immutable Variables:** Immutable variables are those whose values cannot be changed after creation. Once an immutable variable is created, its value cannot be modified. Examples of immutable data types in Python include tuples and strings.\n"
      ],
      "metadata": {
        "id": "mjIl_OJiGAwR"
      }
    },
    {
      "cell_type": "code",
      "source": [
        "# Example of an immutable variable (tuple)\n",
        "my_tuple = (1, 2, 3)\n",
        "# Attempting to modify the tuple will result in an error\n",
        "# my_tuple[0] = 0  # This will raise a TypeError"
      ],
      "metadata": {
        "id": "OT88Vgz9GTEf"
      },
      "execution_count": null,
      "outputs": []
    },
    {
      "cell_type": "markdown",
      "source": [
        "**3-The main differences between lists, tuples, and dictionaries in Python are:**"
      ],
      "metadata": {
        "id": "imqNHSBxGWHn"
      }
    },
    {
      "cell_type": "markdown",
      "source": [
        "**Lists:** Lists are ordered collections of items, and they are mutable, meaning their elements can be changed after creation. Lists are created using square brackets '[]'."
      ],
      "metadata": {
        "id": "HfPGmFBWGmEO"
      }
    },
    {
      "cell_type": "code",
      "source": [
        "my_list = [1, 2, 3]"
      ],
      "metadata": {
        "id": "UxlnI9gcGrpJ"
      },
      "execution_count": null,
      "outputs": []
    },
    {
      "cell_type": "markdown",
      "source": [
        "**Tuples:** Tuples are ordered collections of items, similar to lists, but they are immutable, meaning their elements cannot be changed after creation. Tuples are created using parentheses '()'."
      ],
      "metadata": {
        "id": "pWcCHY03Guf-"
      }
    },
    {
      "cell_type": "code",
      "source": [
        "my_tuple = (1, 2, 3)"
      ],
      "metadata": {
        "id": "U6jipsomHlgD"
      },
      "execution_count": null,
      "outputs": []
    },
    {
      "cell_type": "markdown",
      "source": [
        "**Dictionaries:**Dictionaries are unordered collections of key-value pairs. They are mutable and can be modified after creation. Each key in a dictionary must be unique. Dictionaries are created using curly braces '*{}'.\n"
      ],
      "metadata": {
        "id": "GuNdFpjfH3--"
      }
    },
    {
      "cell_type": "code",
      "source": [
        "my_dict = {'key1': 'value1', 'key2': 'value2'}"
      ],
      "metadata": {
        "id": "Oghz6x0OJahi"
      },
      "execution_count": null,
      "outputs": []
    },
    {
      "cell_type": "markdown",
      "source": [
        "**4-simple calculator that takes 3 arguments x,y,operator**"
      ],
      "metadata": {
        "id": "R91aNaXBJeQ_"
      }
    },
    {
      "cell_type": "code",
      "source": [
        "def calculator(x, y, operation):\n",
        "    if operation == '+':\n",
        "        return x + y\n",
        "    elif operation == '-':\n",
        "        return x - y\n",
        "    elif operation == '*':\n",
        "        return x * y\n",
        "    elif operation == '/':\n",
        "        return x / y\n",
        "    else:\n",
        "        return \"Error\""
      ],
      "metadata": {
        "id": "yDxtAAjILhqv"
      },
      "execution_count": null,
      "outputs": []
    },
    {
      "cell_type": "code",
      "source": [
        "x= 6\n",
        "y= 84\n",
        "operaation = '+'\n",
        "result = calculator (x, y, operation)\n",
        "print (f\"{x} { operation } {y} = {result}\")"
      ],
      "metadata": {
        "colab": {
          "base_uri": "https://localhost:8080/"
        },
        "id": "1sOGpRW0ZI7V",
        "outputId": "504fe8f7-008f-4090-f132-08bb1f1e92b0"
      },
      "execution_count": null,
      "outputs": [
        {
          "output_type": "stream",
          "name": "stdout",
          "text": [
            "6 + 84 = 90\n"
          ]
        }
      ]
    },
    {
      "cell_type": "code",
      "source": [
        "x = 10\n",
        "y = 5\n",
        "operation = '-'\n",
        "result = calculator(x, y, operation)\n",
        "print(f\"{x} {operation} {y} = {result}\")"
      ],
      "metadata": {
        "colab": {
          "base_uri": "https://localhost:8080/"
        },
        "id": "EBmFPxwkZY4P",
        "outputId": "c6048793-9364-46b8-b903-ed312e82e503"
      },
      "execution_count": null,
      "outputs": [
        {
          "output_type": "stream",
          "name": "stdout",
          "text": [
            "10 - 5 = 5\n"
          ]
        }
      ]
    }
  ]
}