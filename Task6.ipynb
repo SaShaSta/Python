{
  "nbformat": 4,
  "nbformat_minor": 0,
  "metadata": {
    "colab": {
      "provenance": []
    },
    "kernelspec": {
      "name": "python3",
      "display_name": "Python 3"
    },
    "language_info": {
      "name": "python"
    }
  },
  "cells": [
    {
      "cell_type": "markdown",
      "source": [
        "**While True:**"
      ],
      "metadata": {
        "id": "dVjjGAhOunH9"
      }
    },
    {
      "cell_type": "code",
      "source": [
        "while True:\n",
        "    try:\n",
        "        a_num1 = int(input(\"Enter first number: \"))\n",
        "        if a_num1== 'q':\n",
        "            break\n",
        "        b_num2 = int(input(\"Enter second number: \"))\n",
        "        a_num1 = int(a_num1) #casting\n",
        "        if b_num2== 'q':\n",
        "            break\n",
        "        b_num2 = int(b_num2) #casting\n",
        "    except:\n",
        "        print(\"Please enter valid numbers.\")\n",
        "\n",
        "        if (a_num1 > b_num2):\n",
        "            print(f\"{a_num1} is greater than {b_num2}\")\n",
        "        elif (a_num1 < b_num2):\n",
        "            print(f\"{a_num1} is less than {b_num2}\")\n",
        "        else:\n",
        "            print(f\"{a_num1} is equal to {b_num2}\")"
      ],
      "metadata": {
        "id": "qP1Luf0qWPW5"
      },
      "execution_count": null,
      "outputs": []
    },
    {
      "cell_type": "code",
      "source": [
        "b = 3\n",
        "for i in range(1, b):\n",
        "    b *= i\n",
        "\n",
        "print (b)\n"
      ],
      "metadata": {
        "colab": {
          "base_uri": "https://localhost:8080/"
        },
        "id": "VQyTVPLPPYhS",
        "outputId": "e3527acc-abef-4290-b62f-81ba4d473e3d"
      },
      "execution_count": null,
      "outputs": [
        {
          "output_type": "stream",
          "name": "stdout",
          "text": [
            "6\n"
          ]
        }
      ]
    },
    {
      "cell_type": "markdown",
      "source": [
        "Factorial"
      ],
      "metadata": {
        "id": "W8_TALlUtOvr"
      }
    },
    {
      "cell_type": "code",
      "source": [
        "def factorial(a):\n",
        "    a = input(\"Insert number: \")\n",
        "    try:\n",
        "        a = int(a)  # casting\n",
        "    except ValueError:\n",
        "        print(\"Input must be a valid integer.\")\n",
        "        return\n",
        "\n",
        "    if a <= 0:\n",
        "        print(\"Number must be a positive integer.\")\n",
        "        return\n",
        "\n",
        "    fact = 1\n",
        "    for i in range(1, a + 1):\n",
        "        fact *= i\n",
        "\n",
        "    print(\"Factorial of\", a, \"is\", fact)\n",
        "\n",
        "factorial(None)  # You can call this function to prompt the user for input and calculate the factorial\n"
      ],
      "metadata": {
        "colab": {
          "base_uri": "https://localhost:8080/"
        },
        "id": "tHiaJCu3s44A",
        "outputId": "37e559dc-f91d-4894-bf92-3574bceedcb8"
      },
      "execution_count": null,
      "outputs": [
        {
          "output_type": "stream",
          "name": "stdout",
          "text": [
            "Insert number: 0\n",
            "Number must be a positive integer.\n"
          ]
        }
      ]
    },
    {
      "cell_type": "code",
      "source": [
        "def sub_fun(a):\n",
        "  try:\n",
        "    a = int(a)\n",
        "  except:\n",
        "    print(\"Input must be a valid integer.\")\n",
        "    return\n",
        "  while a >= 0:\n",
        "\n",
        "    print(a)\n",
        "    a -= 3\n",
        "\n",
        "\n",
        "a = input(\"Insert number: \")\n",
        "sub_fun(a)\n"
      ],
      "metadata": {
        "colab": {
          "base_uri": "https://localhost:8080/"
        },
        "id": "SadpnqgKZVsu",
        "outputId": "2567400a-2291-4f50-ccfe-1bef5a44ceea"
      },
      "execution_count": null,
      "outputs": [
        {
          "output_type": "stream",
          "name": "stdout",
          "text": [
            "Insert number: 13\n",
            "13\n",
            "10\n",
            "7\n",
            "4\n",
            "1\n"
          ]
        }
      ]
    },
    {
      "cell_type": "markdown",
      "source": [
        "Function factorial"
      ],
      "metadata": {
        "id": "BJ1fTqlf79u-"
      }
    },
    {
      "cell_type": "code",
      "source": [
        "def factorial(n):\n",
        "    result = 1\n",
        "    for i in range(1, n + 1):\n",
        "        result *= i\n",
        "    return result\n",
        "\n",
        "while True:\n",
        "    user_input = int (input(\"Enter a number to calculate its factorial (or 'q' to quit): \") )\n",
        "    if user_input == 'q':\n",
        "        print(\"Exiting\")\n",
        "        break\n",
        "    try:\n",
        "        num = int(user_input)\n",
        "        print(f\"The factorial of {num} is {factorial(num)}\")\n",
        "    except :\n",
        "        print(\"Please enter a valid number or 'q' to quit.\")\n"
      ],
      "metadata": {
        "id": "iR9oHExJ65wR",
        "colab": {
          "base_uri": "https://localhost:8080/",
          "height": 238
        },
        "outputId": "cc19bf3f-56ea-47de-af04-40c64eabd3d1"
      },
      "execution_count": null,
      "outputs": [
        {
          "name": "stdout",
          "output_type": "stream",
          "text": [
            "Enter a number to calculate its factorial (or 'q' to quit): q\n"
          ]
        },
        {
          "output_type": "error",
          "ename": "ValueError",
          "evalue": "invalid literal for int() with base 10: 'q'",
          "traceback": [
            "\u001b[0;31m---------------------------------------------------------------------------\u001b[0m",
            "\u001b[0;31mValueError\u001b[0m                                Traceback (most recent call last)",
            "\u001b[0;32m<ipython-input-2-dfab7a1d1193>\u001b[0m in \u001b[0;36m<cell line: 7>\u001b[0;34m()\u001b[0m\n\u001b[1;32m      6\u001b[0m \u001b[0;34m\u001b[0m\u001b[0m\n\u001b[1;32m      7\u001b[0m \u001b[0;32mwhile\u001b[0m \u001b[0;32mTrue\u001b[0m\u001b[0;34m:\u001b[0m\u001b[0;34m\u001b[0m\u001b[0;34m\u001b[0m\u001b[0m\n\u001b[0;32m----> 8\u001b[0;31m     \u001b[0muser_input\u001b[0m \u001b[0;34m=\u001b[0m \u001b[0mint\u001b[0m \u001b[0;34m(\u001b[0m\u001b[0minput\u001b[0m\u001b[0;34m(\u001b[0m\u001b[0;34m\"Enter a number to calculate its factorial (or 'q' to quit): \"\u001b[0m\u001b[0;34m)\u001b[0m \u001b[0;34m)\u001b[0m\u001b[0;34m\u001b[0m\u001b[0;34m\u001b[0m\u001b[0m\n\u001b[0m\u001b[1;32m      9\u001b[0m     \u001b[0;32mif\u001b[0m \u001b[0muser_input\u001b[0m \u001b[0;34m==\u001b[0m \u001b[0;34m'q'\u001b[0m\u001b[0;34m:\u001b[0m\u001b[0;34m\u001b[0m\u001b[0;34m\u001b[0m\u001b[0m\n\u001b[1;32m     10\u001b[0m         \u001b[0mprint\u001b[0m\u001b[0;34m(\u001b[0m\u001b[0;34m\"Exiting\"\u001b[0m\u001b[0;34m)\u001b[0m\u001b[0;34m\u001b[0m\u001b[0;34m\u001b[0m\u001b[0m\n",
            "\u001b[0;31mValueError\u001b[0m: invalid literal for int() with base 10: 'q'"
          ]
        }
      ]
    },
    {
      "cell_type": "code",
      "source": [
        "def factorial(n):\n",
        "    result = 1\n",
        "    for i in range(1, n + 1):\n",
        "        result *= i\n",
        "    return result\n",
        "\n",
        "while True:\n",
        "    user_input = input(\"Enter a number to calculate its factorial (or 'q' to quit): \")\n",
        "    if user_input == 'q':\n",
        "        print(\"Exiting\")\n",
        "        break\n",
        "    if user_input.isdigit():\n",
        "        num = int(user_input)\n",
        "        print(f\"The factorial of {num} is {factorial(num)}\")\n",
        "    else:\n",
        "        print(\"Please enter a valid number or 'q' to quit.\")"
      ],
      "metadata": {
        "colab": {
          "base_uri": "https://localhost:8080/"
        },
        "id": "yqMihoutKvsx",
        "outputId": "aca5aa74-cf9c-49a7-d7a0-9643332238b8"
      },
      "execution_count": null,
      "outputs": [
        {
          "output_type": "stream",
          "name": "stdout",
          "text": [
            "Enter a number to calculate its factorial (or 'q' to quit): 2\n",
            "The factorial of 2 is 2\n",
            "Enter a number to calculate its factorial (or 'q' to quit): 5\n",
            "The factorial of 5 is 120\n",
            "Enter a number to calculate its factorial (or 'q' to quit): 4\n",
            "The factorial of 4 is 24\n"
          ]
        }
      ]
    },
    {
      "cell_type": "code",
      "source": [],
      "metadata": {
        "id": "SDieehFL-z-P"
      },
      "execution_count": null,
      "outputs": []
    }
  ]
}