{
  "cells": [
    {
      "cell_type": "markdown",
      "source": [
        "**Password**"
      ],
      "metadata": {
        "id": "w302Kk0JOsFL"
      }
    },
    {
      "cell_type": "code",
      "execution_count": null,
      "metadata": {
        "id": "eYcwrtyEJBuI",
        "colab": {
          "base_uri": "https://localhost:8080/"
        },
        "outputId": "d0774ef8-f914-4a5e-bdd3-bedab30374e7"
      },
      "outputs": [
        {
          "output_type": "stream",
          "name": "stdout",
          "text": [
            "Enter your password: yeiuhf545@jd\n",
            "Password is weak\n"
          ]
        }
      ],
      "source": [
        "def check_password(password):\n",
        "    # Check if the password meets all criteria\n",
        "    if (8 <= len(password) <= 16 and\n",
        "        any(c.isupper() for c in password) and\n",
        "        any(c.islower() for c in password) and\n",
        "        any(c.isdigit() for c in password) and\n",
        "        any(c in \"!@#$%^&*(),.?\\\":{}|<>\" for c in password) and\n",
        "        password not in {\"admin\", \"password\", \"12345\"}):\n",
        "        return True\n",
        "    else:\n",
        "        return False\n",
        "\n",
        "# Test the function\n",
        "password = input(\"Enter your password: \")\n",
        "if check_password(password):\n",
        "    print(\"Password is strong\")\n",
        "else:\n",
        "    print(\"Password is weak\")\n"
      ]
    },
    {
      "cell_type": "markdown",
      "source": [
        "**What is lambda function**\n",
        "A lambda function in programming is an anonymous function, meaning it doesn't have a name. It's a small, unnamed function defined in a single line. Lambda functions are typically used when you need a simple function for a short period, often as an argument to higher-order functions (functions that take other functions as arguments).\n",
        "\n",
        "In Python, lambda functions are defined using the lambda keyword. The syntax is lambda arguments: expression.\n",
        "\n",
        "Here are a few examples:\n",
        "\n",
        "Addition function:\n",
        "python\n",
        "Copy code\n",
        "add = lambda x, y: x + y\n",
        "print(add(3, 5))  # Output: 8\n",
        "This lambda function takes two arguments x and y, and returns their sum.\n",
        "\n",
        "Square function:\n",
        "python\n",
        "Copy code\n",
        "square = lambda x: x * x\n",
        "print(square(4))  # Output: 16\n",
        "This lambda function takes one argument x and returns its square.\n",
        "\n",
        "Filtering even numbers:\n",
        "python\n",
        "Copy code\n",
        "numbers = [1, 2, 3, 4, 5, 6, 7, 8, 9, 10]\n",
        "even_numbers = list(filter(lambda x: x % 2 == 0, numbers))\n",
        "print(even_numbers)  # Output: [2, 4, 6, 8, 10]\n",
        "Here, the lambda function is used with the filter() function to filter out even numbers from a list.\n",
        "\n",
        "Sorting by the second element:\n",
        "python\n",
        "Copy code\n",
        "pairs = [(1, 2), (3, 1), (5, 3), (2, 4)]\n",
        "pairs.sort(key=lambda x: x[1])\n",
        "print(pairs)  # Output: [(3, 1), (1, 2), (5, 3), (2, 4)]\n",
        "This lambda function is used as the key function for sorting a list of tuples by their second element.\n",
        "\n",
        "Lambda functions are concise and useful for simple operations, but they should be used judiciously. For more complex logic, it's often clearer to define a named function."
      ],
      "metadata": {
        "id": "CQrTjUt_OzAv"
      }
    },
    {
      "cell_type": "markdown",
      "source": [
        "**Try-except**\n",
        "\n",
        " The try-except block is a fundamental feature in Python for handling exceptions, which are errors that occur during the execution of a program. The try block lets you test a block of code for errors, and the except block lets you handle the error gracefully instead of letting the program crash.\n",
        "\n",
        "Here's a brief overview of its need and an example:\n",
        "\n",
        "Need for try-except block:\n",
        "\n",
        "It helps in gracefully handling errors that might occur during the execution of a program.\n",
        "It prevents the program from crashing when an error occurs, allowing the program to continue executing or providing a controlled way to handle the error.\n",
        "Example:\n",
        "\n",
        "python\n",
        "Copy code\n",
        "try:\n",
        "    # Code that might raise an exception\n",
        "    x = 10 / 0  # This will raise a ZeroDivisionError\n",
        "except ZeroDivisionError:\n",
        "    # Handling the specific exception\n",
        "    print(\"Error: Division by zero occurred\")\n",
        "In this example:\n",
        "\n",
        "We have a division operation that might raise a ZeroDivisionError.\n",
        "Inside the try block, we attempt the division operation.\n",
        "If an error occurs (in this case, a division by zero error), the program jumps to the except block.\n",
        "Inside the except block, we handle the specific exception ZeroDivisionError by printing an error message.\n",
        "It's important to note that you can have multiple except blocks to handle different types of exceptions, or a single except block to catch all exceptions. Additionally, you can include an optional else block to execute code when no exceptions occur within the try block, and a finally block to execute code regardless of whether an exception occurs or not."
      ],
      "metadata": {
        "id": "FKFMuSg4PEIR"
      }
    },
    {
      "cell_type": "markdown",
      "source": [
        "**Advanced Calculator Using Try-Except**"
      ],
      "metadata": {
        "id": "AOYv14ZeQtfI"
      }
    },
    {
      "cell_type": "code",
      "source": [
        "def calculator():\n",
        "    while True:\n",
        "        try:\n",
        "            x_input = input(\"Enter the first number (float or int): \")\n",
        "            x = float(x_input)\n",
        "\n",
        "            y_input = input(\"Enter the second number (float or int): \")\n",
        "            y = float(y_input)\n",
        "\n",
        "            operator = input(\"Enter the operator (+, -, *, /) or 'exit' to quit: \")\n",
        "\n",
        "            if operator == 'exit':\n",
        "                print(\"Exiting calculator...\")\n",
        "                break\n",
        "            elif operator not in ['+', '-', '*', '/']:\n",
        "                print(\"Invalid operator. Please try again.\")\n",
        "                continue\n",
        "\n",
        "            # Perform calculation based on operator\n",
        "            if operator == '+':\n",
        "                result = x + y\n",
        "            elif operator == '-':\n",
        "                result = x - y\n",
        "            elif operator == '*':\n",
        "                result = x * y\n",
        "            elif operator == '/':\n",
        "                if y != 0:\n",
        "                    result = x / y\n",
        "                else:\n",
        "                    print(\"Error: Division by zero!\")\n",
        "                    continue\n",
        "\n",
        "            print(f\"Result: {x} {operator} {y} = {result}\")\n",
        "\n",
        "        except ValueError:\n",
        "            print(\"Invalid input. Please enter a valid float or integer.\")\n",
        "            continue\n",
        "\n",
        "# Run the calculator\n",
        "calculator()"
      ],
      "metadata": {
        "id": "-ib34IWZQsNm",
        "colab": {
          "base_uri": "https://localhost:8080/"
        },
        "outputId": "8f1c4dba-cf92-44cb-8766-99f6988fa1ae"
      },
      "execution_count": null,
      "outputs": [
        {
          "output_type": "stream",
          "name": "stdout",
          "text": [
            "Enter the first number (float or int): 1\n",
            "Enter the second number (float or int): 55\n",
            "Enter the operator (+, -, *, /) or 'exit' to quit: *\n",
            "Result: 1.0 * 55.0 = 55.0\n",
            "Enter the first number (float or int): 45\n",
            "Enter the second number (float or int): 4\n",
            "Enter the operator (+, -, *, /) or 'exit' to quit: exit\n",
            "Exiting calculator...\n"
          ]
        }
      ]
    },
    {
      "cell_type": "markdown",
      "source": [
        "**Advanced Calculator**"
      ],
      "metadata": {
        "id": "44459J56Ou1W"
      }
    },
    {
      "cell_type": "code",
      "execution_count": null,
      "metadata": {
        "colab": {
          "base_uri": "https://localhost:8080/"
        },
        "id": "c7dqpF-qL8ES",
        "outputId": "2c422e4d-9446-40d4-d6f4-644019210322"
      },
      "outputs": [
        {
          "output_type": "stream",
          "name": "stdout",
          "text": [
            "Enter the first number (float or int): 12\n",
            "Enter the second number (float or int): 4\n",
            "Enter the operator (+, -, *, /) or 'exit' to quit: +\n",
            "Result: 12.0 + 4.0 = 16.0\n",
            "Enter the first number (float or int): 1.5\n",
            "Enter the second number (float or int): *\n",
            "Please enter a valid float or integer number.\n",
            "Enter the first number (float or int): 5\n",
            "Enter the second number (float or int): *\n",
            "Please enter a valid float or integer number.\n",
            "Enter the first number (float or int): 1.5\n",
            "Enter the second number (float or int): 5\n",
            "Enter the operator (+, -, *, /) or 'exit' to quit: *\n",
            "Result: 1.5 * 5.0 = 7.5\n",
            "Enter the first number (float or int): 1\n",
            "Enter the second number (float or int): /3\n",
            "Please enter a valid float or integer number.\n",
            "Enter the first number (float or int): 3\n",
            "Enter the second number (float or int): 11\n",
            "Enter the operator (+, -, *, /) or 'exit' to quit: /\n",
            "Result: 3.0 / 11.0 = 0.2727272727272727\n",
            "Enter the first number (float or int): 4\n",
            "Enter the second number (float or int): 5\n",
            "Enter the operator (+, -, *, /) or 'exit' to quit: exit\n",
            "Exiting calculator...\n"
          ]
        }
      ],
      "source": [
        "def calculator():\n",
        "    while True:\n",
        "        # Get user input for operands and operator\n",
        "        x_input = input(\"Enter the first number (float or int): \")\n",
        "        if not (x_input.isdigit() or x_input.replace('.', '', 1).isdigit()):\n",
        "            print(\"Please enter a valid float or integer number.\")\n",
        "            continue\n",
        "        x = float(x_input)\n",
        "\n",
        "        y_input = input(\"Enter the second number (float or int): \")\n",
        "        if not (y_input.isdigit() or y_input.replace('.', '', 1).isdigit()):\n",
        "            print(\"Please enter a valid float or integer number.\")\n",
        "            continue\n",
        "        y = float(y_input)\n",
        "\n",
        "        operator = input(\"Enter the operator (+, -, *, /) or 'exit' to quit: \")\n",
        "        if operator == 'exit':\n",
        "            print(\"Exiting calculator...\")\n",
        "            break\n",
        "        elif operator not in ['+', '-', '*', '/']:\n",
        "            print(\"Invalid operator. Please try again.\")\n",
        "            continue\n",
        "\n",
        "        # Perform calculation based on operator\n",
        "        if operator == '+':\n",
        "            result = x + y\n",
        "        elif operator == '-':\n",
        "            result = x - y\n",
        "        elif operator == '*':\n",
        "            result = x * y\n",
        "        elif operator == '/':\n",
        "            if y != 0:\n",
        "                result = x / y\n",
        "            else:\n",
        "                print(\"Error: Division by zero!\")\n",
        "                continue\n",
        "\n",
        "        print(f\"Result: {x} {operator} {y} = {result}\")\n",
        "\n",
        "# Run the calculator\n",
        "calculator()\n"
      ]
    },
    {
      "cell_type": "code",
      "source": [
        "from google.colab import drive\n",
        "drive.mount('/content/drive')"
      ],
      "metadata": {
        "id": "gALoJUS0x7rA"
      },
      "execution_count": null,
      "outputs": []
    }
  ],
  "metadata": {
    "colab": {
      "provenance": []
    },
    "kernelspec": {
      "display_name": "Python 3",
      "name": "python3"
    },
    "language_info": {
      "name": "python"
    }
  },
  "nbformat": 4,
  "nbformat_minor": 0
}